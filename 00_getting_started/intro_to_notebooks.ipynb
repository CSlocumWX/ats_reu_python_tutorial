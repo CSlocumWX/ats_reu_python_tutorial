{
 "cells": [
  {
   "cell_type": "markdown",
   "id": "6035866e-3851-450a-9905-0190d0eb408a",
   "metadata": {},
   "source": [
    "# Introduction to Jupyter Notebooks"
   ]
  },
  {
   "cell_type": "markdown",
   "id": "db2587fe-b2d8-49d0-a983-9a1988f4a37c",
   "metadata": {},
   "source": [
    "## What is a Jupyter Notebook?\n",
    "\n",
    "It is a web application that combines\n",
    "* code,\n",
    "* visualizations, \n",
    "* narrative text,\n",
    "*  equations, etc.\n",
    "\n",
    "into one place.\n",
    "\n",
    "### Why use a Jupyter Notebook?\n",
    "Jupyter Notebooks promote scientific research that is\n",
    "* shareable,\n",
    "* repeatable, and\n",
    "* understandable.\n",
    "\n",
    "These are all important elements to sound scientific research and communication.\n",
    "\n",
    "\n",
    "For example, you can say a chunk of code does solves for the time rate of change of $u$ with $F$ as a friction term based on the following equation\n",
    "$$\n",
    "\\frac{\\partial u}{\\partial t} - u \\frac{\\partial u}{\\partial x} = F.\n",
    "$$\n",
    "\n",
    "### Should I always use a Jupyter Notebook?\n",
    "No. Notebooks are not suitable for all situations. For example:\n",
    "* long pieces of code,\n",
    "* code reuse, and\n",
    "* running automatically in a time-based job scheduler.\n",
    "\n",
    "*There are options for doing all of the above with notebooks that I'm not covering here*"
   ]
  },
  {
   "cell_type": "markdown",
   "id": "ca4c6613-5abe-481a-9501-f10dd1331b32",
   "metadata": {},
   "source": [
    "## So, what actually __\"is\"__ a notebook?"
   ]
  },
  {
   "cell_type": "markdown",
   "id": "283113e6-dec5-4c2d-9986-b06eac12723b",
   "metadata": {},
   "source": [
    "A notebook is comprised of \"cells.\" The notebook technology \"sends\" the cells to the appropriate location to \"render\" to produce stylized output or sends code to be \"run\" and \"renders\" the output. There are three types of cells\n",
    "1. \"Code\": a cell for code,\n",
    "2. \"Markdown\": a cell for your narrative text, equations, & visualizations, and\n",
    "3. \"Raw\": a cell when you don't want to run code or render visuals."
   ]
  },
  {
   "cell_type": "markdown",
   "id": "55c066b8-1e65-4fa7-9d3d-fcfef97f7135",
   "metadata": {},
   "source": [
    "### Markdown?\n",
    "\n",
    "\"Markdown\" is a lightweight \"mark up\" language (e.g., HTML-lite). You can also use HTML in Markdown cells.\n",
    "\n",
    "<table width=50%>\n",
    "  <thead>\n",
    "    <tr>\n",
    "      <th>Element</th>\n",
    "      <th>Markdown Syntax</th>\n",
    "    </tr>\n",
    "  </thead>\n",
    "  <tbody>\n",
    "    <tr>\n",
    "      <td>Heading</td>\n",
    "      <td><pre># H1<br/>## H2<br/>### H3</pre></td>\n",
    "    </tr>\n",
    "    <tr>\n",
    "      <td>Bold</td>\n",
    "      <td><pre>**bold text**</pre></td>\n",
    "    </tr>\n",
    "    <tr>\n",
    "      <td>Italic</td>\n",
    "      <td><pre>*italicized text*</pre></td>\n",
    "    </tr>\n",
    "    <tr>\n",
    "      <td>Ordered List</td>\n",
    "      <td><pre>1. First item<br>2. Second item<br>3. Third item<br></pre></td>\n",
    "    </tr>\n",
    "    <tr>\n",
    "      <td>Unordered List</td>\n",
    "      <td><pre>- First item<br>- Second item<br>- Third item<br></pre></td>\n",
    "    </tr>\n",
    "    <tr>\n",
    "      <td>Code</td>\n",
    "      <td><pre>`code`</pre></td>\n",
    "    </tr>\n",
    "    <tr>\n",
    "      <td>Link</td>\n",
    "      <td><pre>[title](https://www.example.com)</pre></td>\n",
    "    </tr>\n",
    "    <tr>\n",
    "      <td>Image</td>\n",
    "      <td><pre>![alt text](image.jpg)</pre></td>\n",
    "    </tr>\n",
    "  </tbody>\n",
    "</table>\n",
    "\n",
    "The above table is adapted from https://www.markdownguide.org. More info on Markdown can be found at https://www.markdownguide.org/cheat-sheet/."
   ]
  },
  {
   "cell_type": "markdown",
   "id": "2beb5d94-50a0-4aa2-b090-09795636ac1d",
   "metadata": {},
   "source": [
    "---\n",
    "## OK, running code and coding in a browser?\n",
    "\n",
    "Remember `ipython`? Code blocks work like the enhanced Interactive Python interpretor. So, let's try running our `hello_world.py` script!\n",
    "\n",
    "In the notebook, to run a cell of code, hit `Shift-Enter` (or `Shift-Return`) to executes the cell."
   ]
  },
  {
   "cell_type": "code",
   "execution_count": null,
   "id": "71ad5c9f-ae8f-4d50-9020-e8c41f44616b",
   "metadata": {},
   "outputs": [],
   "source": [
    "%run hello_world.py"
   ]
  },
  {
   "cell_type": "markdown",
   "id": "82d5b1ab-ad99-430c-abee-d289c2680e7b",
   "metadata": {},
   "source": [
    "### Neat!\n",
    "\n",
    "But, you can do much more than run a script in a Jupyter Notebook. Let's try the `print(\"Hello, World!\")` line of code from `hello_world.py` file."
   ]
  },
  {
   "cell_type": "code",
   "execution_count": null,
   "id": "d3036d5e-f28a-4952-ab55-69c7ee6e05d9",
   "metadata": {},
   "outputs": [],
   "source": [
    "print(\"Hello, World!\")"
   ]
  },
  {
   "cell_type": "markdown",
   "id": "4628b662-7187-4be1-877f-919d95ba9f60",
   "metadata": {},
   "source": [
    "In a notebook, the last line of a code cell produces output."
   ]
  },
  {
   "cell_type": "code",
   "execution_count": null,
   "id": "14319c13-fbfa-47b0-83f4-be29e9e2af99",
   "metadata": {},
   "outputs": [],
   "source": [
    "\"Hello, World!\""
   ]
  },
  {
   "cell_type": "code",
   "execution_count": null,
   "id": "bff829b1-8c27-423c-abd8-2960b03cf0cb",
   "metadata": {},
   "outputs": [],
   "source": [
    "1+1"
   ]
  },
  {
   "cell_type": "markdown",
   "id": "e8d92d47-0ad2-4af8-9716-2ccb2627e941",
   "metadata": {},
   "source": [
    "Note that this will not produce output in a `.py` file."
   ]
  },
  {
   "cell_type": "markdown",
   "id": "c7451c64-2b02-4531-8b74-73cdfe3a42b6",
   "metadata": {},
   "source": [
    "## A *big*, __*big*__ notebook gotcha!!!\n",
    "\n",
    "The order you run cells matters!!!!!\n",
    "\n",
    "Run the three cells below."
   ]
  },
  {
   "cell_type": "code",
   "execution_count": null,
   "id": "2b6c2263-00c7-46aa-9431-f56520c6a4e7",
   "metadata": {},
   "outputs": [],
   "source": [
    "a = 3"
   ]
  },
  {
   "cell_type": "code",
   "execution_count": null,
   "id": "f0799c3b-b91f-4645-a1e4-fe7c8720b3c8",
   "metadata": {},
   "outputs": [],
   "source": [
    "b = 2"
   ]
  },
  {
   "cell_type": "code",
   "execution_count": null,
   "id": "ae07a2f3-c0f8-45b6-89be-91276a880f8f",
   "metadata": {},
   "outputs": [],
   "source": [
    "c = a + b\n",
    "print(c)"
   ]
  },
  {
   "cell_type": "markdown",
   "id": "76ac3d09-f68a-4aae-855e-e09e3b97b40e",
   "metadata": {},
   "source": [
    "Ok, now go back and change + run the cell with `a` to `a = 3` from `a = 1`. And, run the cell below."
   ]
  },
  {
   "cell_type": "code",
   "execution_count": null,
   "id": "6c373fdf-bd7e-4bdd-956d-910c18ff7b64",
   "metadata": {},
   "outputs": [],
   "source": [
    "d = c + a"
   ]
  },
  {
   "cell_type": "markdown",
   "id": "822ae0de-1d0b-411c-bc54-7feb89c87c66",
   "metadata": {},
   "source": [
    "What is the value of `d`?"
   ]
  },
  {
   "cell_type": "code",
   "execution_count": null,
   "id": "2b97dbab-b019-476e-b5e5-bc7835fa0e3e",
   "metadata": {},
   "outputs": [],
   "source": [
    "print(d)"
   ]
  },
  {
   "cell_type": "markdown",
   "id": "c173e9cf-f8ae-42b2-abd3-badea013a421",
   "metadata": {},
   "source": [
    "This *issue* is called a hidden state, so be mindful of this while coding in notebooks!"
   ]
  },
  {
   "cell_type": "markdown",
   "id": "a1b04639-348a-4fe3-80ee-9b2eb1bc574d",
   "metadata": {},
   "source": [
    "## For more notebook fun\n",
    "* [Software Carpentry: Python Notive - Running and Quitting](https://swcarpentry.github.io/python-novice-gapminder/01-run-quit/index.html)\n",
    "* [CIRA Python Tutorial: Beyond Plain Python](https://gitlab.com/CSU-CIRA/python_training_resources/notebooks/-/blob/master/1_Beyond_Plain_Python.ipynb)"
   ]
  },
  {
   "cell_type": "code",
   "execution_count": null,
   "id": "f3b2fa25-a244-4176-ae70-e890db534706",
   "metadata": {},
   "outputs": [],
   "source": []
  }
 ],
 "metadata": {
  "kernelspec": {
   "display_name": "Python 3",
   "language": "python",
   "name": "python3"
  },
  "language_info": {
   "codemirror_mode": {
    "name": "ipython",
    "version": 3
   },
   "file_extension": ".py",
   "mimetype": "text/x-python",
   "name": "python",
   "nbconvert_exporter": "python",
   "pygments_lexer": "ipython3",
   "version": "3.8.5"
  }
 },
 "nbformat": 4,
 "nbformat_minor": 5
}
