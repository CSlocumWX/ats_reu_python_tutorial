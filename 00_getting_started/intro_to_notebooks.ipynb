{
 "cells": [
  {
   "cell_type": "markdown",
   "id": "6035866e-3851-450a-9905-0190d0eb408a",
   "metadata": {},
   "source": [
    "# Introduction to Jupyter Notebooks"
   ]
  },
  {
   "cell_type": "markdown",
   "id": "db2587fe-b2d8-49d0-a983-9a1988f4a37c",
   "metadata": {},
   "source": [
    "## What is a Jupyter Notebook?\n",
    "\n",
    "It is a web application that combines\n",
    "* code,\n",
    "* visualizations, \n",
    "* narrative text,\n",
    "* equations,\n",
    "* etc.,\n",
    "\n",
    "into one place.\n",
    "\n",
    "### Why use a Jupyter Notebook?\n",
    "Jupyter Notebooks promote scientific research that is\n",
    "* shareable,\n",
    "* repeatable, and\n",
    "* understandable.\n",
    "\n",
    "These are all important elements to sound scientific research and communication.\n",
    "\n",
    "\n",
    "For example, you can say a chunk of code solves for the time rate of change of $u$ with $F$ as a friction term based on the following equation\n",
    "$$\n",
    "\\frac{\\partial u}{\\partial t} - u \\frac{\\partial u}{\\partial x} = F.\n",
    "$$\n",
    "\n",
    "### Should I always use a Jupyter Notebook?\n",
    "No. Notebooks are not suitable for all situations. For example:\n",
    "* long pieces of code,\n",
    "* code reuse, and\n",
    "* running automatically in a time-based job scheduler.\n",
    "\n",
    "*There are options for doing all of the above with notebooks that I'm not covering here*"
   ]
  },
  {
   "cell_type": "markdown",
   "id": "ca4c6613-5abe-481a-9501-f10dd1331b32",
   "metadata": {},
   "source": [
    "## So, what actually __\"is\"__ a notebook?"
   ]
  },
  {
   "cell_type": "markdown",
   "id": "283113e6-dec5-4c2d-9986-b06eac12723b",
   "metadata": {},
   "source": [
    "A notebook is comprised of \"cells.\" The notebook technology \"sends\" the cells to the appropriate location to \"render\" to produce stylized output or sends code to be \"run\" and \"renders\" the output. There are three types of cells\n",
    "1. \"Code\": a cell for code,\n",
    "2. \"Markdown\": a cell for your narrative text, equations, & visualizations, and\n",
    "3. \"Raw\": a cell when you don't want to run code or render visuals."
   ]
  },
  {
   "cell_type": "markdown",
   "id": "55c066b8-1e65-4fa7-9d3d-fcfef97f7135",
   "metadata": {},
   "source": [
    "### Markdown?\n",
    "\n",
    "\"Markdown\" is a lightweight \"mark up\" language (e.g., HTML-lite). You can also use HTML in Markdown cells.\n",
    "\n",
    "<table width=50%>\n",
    "  <thead>\n",
    "    <tr>\n",
    "      <th>Element</th>\n",
    "      <th>Markdown Syntax</th>\n",
    "    </tr>\n",
    "  </thead>\n",
    "  <tbody>\n",
    "    <tr>\n",
    "      <td>Heading</td>\n",
    "      <td><pre># H1<br/>## H2<br/>### H3</pre></td>\n",
    "    </tr>\n",
    "    <tr>\n",
    "      <td>Bold</td>\n",
    "      <td><pre>**bold text**</pre></td>\n",
    "    </tr>\n",
    "    <tr>\n",
    "      <td>Italic</td>\n",
    "      <td><pre>*italicized text*</pre></td>\n",
    "    </tr>\n",
    "    <tr>\n",
    "      <td>Ordered List</td>\n",
    "      <td><pre>1. First item<br>2. Second item<br>3. Third item<br></pre></td>\n",
    "    </tr>\n",
    "    <tr>\n",
    "      <td>Unordered List</td>\n",
    "      <td><pre>- First item<br>- Second item<br>- Third item<br></pre></td>\n",
    "    </tr>\n",
    "    <tr>\n",
    "      <td>Code</td>\n",
    "      <td><pre>`code`</pre></td>\n",
    "    </tr>\n",
    "    <tr>\n",
    "      <td>Link</td>\n",
    "      <td><pre>[title](https://www.example.com)</pre></td>\n",
    "    </tr>\n",
    "    <tr>\n",
    "      <td>Image</td>\n",
    "      <td><pre>![alt text](image.jpg)</pre></td>\n",
    "    </tr>\n",
    "  </tbody>\n",
    "</table>\n",
    "\n",
    "The above table is adapted from https://www.markdownguide.org. More info on Markdown can be found at https://www.markdownguide.org/cheat-sheet/."
   ]
  },
  {
   "cell_type": "markdown",
   "id": "2beb5d94-50a0-4aa2-b090-09795636ac1d",
   "metadata": {},
   "source": [
    "---\n",
    "## Quick note\n",
    "\n",
    "You will see the following color coded boxes. They provide questions to tips, examples.\n",
    "* <span style=\"color:blue\">Blue Box</span> = Tip, note, reminder\n",
    "* <span style=\"color:orange\">Yellow Box</span> = Example\n",
    "* <span style=\"color:green\">Green Box</span> = Optional task to perform\n",
    "* <span style=\"color:red\">Red Box</span> = Warning/Caution\n",
    "\n",
    "---\n",
    "## OK, running code and coding in a browser?\n",
    "\n",
    "Remember `ipython`? Code blocks work like the enhanced Interactive Python interpreter. So, let's try running our `hello_world.py` script!\n",
    "\n",
    "In the notebook, to run a cell of code, hit `Shift-Enter` (or `Shift-Return`) to executes the cell."
   ]
  },
  {
   "cell_type": "code",
   "execution_count": null,
   "id": "71ad5c9f-ae8f-4d50-9020-e8c41f44616b",
   "metadata": {},
   "outputs": [],
   "source": [
    "%run hello_world.py"
   ]
  },
  {
   "cell_type": "markdown",
   "id": "82d5b1ab-ad99-430c-abee-d289c2680e7b",
   "metadata": {},
   "source": [
    "### Neat!\n",
    "\n",
    "But, you can do much more than run a script in a Jupyter Notebook. Let's try the `print(\"Hello, World!\")` line of code from `hello_world.py` file."
   ]
  },
  {
   "cell_type": "code",
   "execution_count": null,
   "id": "d3036d5e-f28a-4952-ab55-69c7ee6e05d9",
   "metadata": {},
   "outputs": [],
   "source": [
    "print(\"Hello, World!\")"
   ]
  },
  {
   "cell_type": "markdown",
   "id": "4628b662-7187-4be1-877f-919d95ba9f60",
   "metadata": {},
   "source": [
    "In a notebook, the last line of a code cell produces output."
   ]
  },
  {
   "cell_type": "code",
   "execution_count": null,
   "id": "14319c13-fbfa-47b0-83f4-be29e9e2af99",
   "metadata": {},
   "outputs": [],
   "source": [
    "\"Hello, World!\""
   ]
  },
  {
   "cell_type": "code",
   "execution_count": null,
   "id": "bff829b1-8c27-423c-abd8-2960b03cf0cb",
   "metadata": {},
   "outputs": [],
   "source": [
    "1 + 1"
   ]
  },
  {
   "cell_type": "markdown",
   "id": "02ec8537-4526-4e14-8649-3fa2a0044790",
   "metadata": {},
   "source": []
  },
  {
   "cell_type": "markdown",
   "id": "d0a460ec-fa16-40f9-bc99-6222ec42d81e",
   "metadata": {},
   "source": [
    "<div class=\"alert alert-block alert-danger\">\n",
    "    <b>Caution</b> that this will not produce output in a <code>.py</code> file.\n",
    "</div>"
   ]
  },
  {
   "cell_type": "markdown",
   "id": "1c9bf0ea-11c6-48e7-8543-90a592591b93",
   "metadata": {},
   "source": [
    "## Variable assignment\n",
    "\n",
    "Great, but how do we \"store\" information?\n",
    "\n",
    "The process of storing information is called \"variable assignment.\"\n",
    "\n",
    "<div class=\"alert alert-block alert-warning\">\n",
    "    <h3>Example</h3>\n",
    "</div>\n",
    "    Let's say we want to store the number 2. Let's create a label \"two\" to store the number 2."
   ]
  },
  {
   "cell_type": "code",
   "execution_count": null,
   "id": "7a596728-8248-42f6-a29e-05105e07a56a",
   "metadata": {},
   "outputs": [],
   "source": []
  },
  {
   "cell_type": "markdown",
   "id": "e230ce6b-5e43-4ffa-8c05-0a3c8f1d63ac",
   "metadata": {},
   "source": [
    "How do we know that we stored it? Let's use the `print()` statement to find out!"
   ]
  },
  {
   "cell_type": "code",
   "execution_count": null,
   "id": "87079bd6-266a-4a80-94ad-959cf01a5933",
   "metadata": {},
   "outputs": [],
   "source": []
  },
  {
   "cell_type": "markdown",
   "id": "c7451c64-2b02-4531-8b74-73cdfe3a42b6",
   "metadata": {},
   "source": [
    "## A *big*, __*big*__ notebook gotcha!!!\n",
    "\n",
    "The order you run cells matters!!!!!\n",
    "\n",
    "\n",
    "<div class=\"alert alert-block alert-success\">\n",
    "    <b>Your turn</b>\n",
    "</div>\n",
    "In the cells below, do the following in order\n",
    "\n",
    "1. In \"Cell Number 1\", set `a = 3` and run with `shift` + `enter`\n",
    "2. In \"Cell Number 2\", set `b = 2` and run with `shift` + `enter`\n",
    "3. In \"Cell Number 3\", set `c = a + b`, `print` the variable `c`, and run with `shift` + `enter`\n",
    "4. In \"Cell Number 4\", set `d = c + a`, but do not run\n",
    "\n",
    "What \"should\" `d` be?\n",
    "\n",
    "OK, let's run \"Cell Number 4.\"\n"
   ]
  },
  {
   "cell_type": "code",
   "execution_count": null,
   "id": "2b6c2263-00c7-46aa-9431-f56520c6a4e7",
   "metadata": {},
   "outputs": [],
   "source": [
    "# Cell Number 1\n"
   ]
  },
  {
   "cell_type": "code",
   "execution_count": null,
   "id": "f0799c3b-b91f-4645-a1e4-fe7c8720b3c8",
   "metadata": {},
   "outputs": [],
   "source": [
    "# Cell Number 2\n"
   ]
  },
  {
   "cell_type": "code",
   "execution_count": null,
   "id": "ae07a2f3-c0f8-45b6-89be-91276a880f8f",
   "metadata": {},
   "outputs": [],
   "source": [
    "# Cell Number 3\n"
   ]
  },
  {
   "cell_type": "code",
   "execution_count": null,
   "id": "94d44ee4-6801-460f-bd1a-e493041ce580",
   "metadata": {},
   "outputs": [],
   "source": [
    "# Cell Number 4\n"
   ]
  },
  {
   "cell_type": "markdown",
   "id": "598fda85-34f3-4174-a8f0-aba6e9c02ffc",
   "metadata": {},
   "source": [
    "Let's make a change.\n",
    "\n",
    "5. In \"Cell Number 1\", set `a = 1`, and run \"Cell Number 1\" with  `shift` + `enter`\n",
    "\n",
    "What \"should\" `d` be now?\n",
    "\n",
    "6. Run \"Cell Number 4\".\n",
    "\n",
    "What was `d`?"
   ]
  },
  {
   "cell_type": "markdown",
   "id": "c173e9cf-f8ae-42b2-abd3-badea013a421",
   "metadata": {},
   "source": [
    "<div class=\"alert alert-block alert-info\">\n",
    "    <b>Note</b> These steps demonstrate what is called a <em>hidden state</em>. While this example might be easy to reason through, it can cause headaches. So, be mindful of this while coding in notebooks!\n",
    "</div>"
   ]
  },
  {
   "cell_type": "markdown",
   "id": "a1b04639-348a-4fe3-80ee-9b2eb1bc574d",
   "metadata": {},
   "source": [
    "## For more notebook fun\n",
    "* [Software Carpentry: Python Notice - Running and Quitting](https://swcarpentry.github.io/python-novice-gapminder/01-run-quit/index.html)\n",
    "* [CIRA Python Tutorial: Beyond Plain Python](https://gitlab.com/CSU-CIRA/python_training_resources/notebooks/-/blob/master/1_Beyond_Plain_Python.ipynb)\n",
    "* [Unidata: Jupyter Notebooks Introduction](https://unidata.github.io/python-training/workshop/Jupyter_Notebooks/jupyter-notebooks-introduction/)"
   ]
  },
  {
   "cell_type": "code",
   "execution_count": null,
   "id": "f3b2fa25-a244-4176-ae70-e890db534706",
   "metadata": {},
   "outputs": [],
   "source": []
  }
 ],
 "metadata": {
  "kernelspec": {
   "display_name": "Python 3 (ipykernel)",
   "language": "python",
   "name": "python3"
  },
  "language_info": {
   "codemirror_mode": {
    "name": "ipython",
    "version": 3
   },
   "file_extension": ".py",
   "mimetype": "text/x-python",
   "name": "python",
   "nbconvert_exporter": "python",
   "pygments_lexer": "ipython3",
   "version": "3.9.5"
  }
 },
 "nbformat": 4,
 "nbformat_minor": 5
}
