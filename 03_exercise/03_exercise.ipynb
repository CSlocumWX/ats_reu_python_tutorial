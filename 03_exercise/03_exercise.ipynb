{
 "cells": [
  {
   "cell_type": "markdown",
   "id": "2e60111d-f04a-43f7-9992-642f5c94a1e3",
   "metadata": {},
   "source": [
    "# Exercise - Putting it all together\n",
    "\n",
    "## Problem background\n",
    "\n",
    "You may have heard that 2021 was rather wet for Northern Colorado. It was. From the \"Colorado State University, Fort Collins, CO Weather Station Monthly Summary Report,\" it was the 11th wettest. See below:\n",
    "\n",
    ">Total monthly precipitation was 5.52” which is 2.80” above the 1991-2020\n",
    ">normal for the month (203% of normal). This ranks as the 11th wettest in the\n",
    ">133-year record (1889-2021). The last May this wet or wetter was 2015\n",
    ">with 6.34” of precipitation.\n",
    "\n",
    "Related to the moisture, it was rather cool this may as well with 2021 ranking 75th coldest.\n",
    "\n",
    ">Mean Tmean was 56.2°F which is 1.3° below the 1991-2020 normal for the\n",
    ">month. This is the 75th coolest in the 133-year record (1889-2021), tied with\n",
    ">1986. The last May this cold or colder was 2019 with 51.9°F.\n",
    "\n",
    "\n",
    "So, you might be wondering if something is influencing this. Maybe you suspect the El Niño/ Southern Oscillation (ENSO)?\n",
    "\n",
    "---\n",
    "\n",
    "## What is the El Niño/ Southern Oscillation (ENSO)?\n",
    "\n",
    "ENSO is the term used to describe the fluxuations in sea surface temperature observed in the eastern and central equatorial Pacific Ocean and the associated atmospheric pressure ocsillations.\n",
    "\n",
    ">![Current sea surface temperature anomalies over the equatorial Pacific Ocean from the Climate Prediction Center ENSO webpage.](https://www.cpc.ncep.noaa.gov/products/analysis_monitoring/enso_update/sstaanim.gif)\n",
    ">\n",
    "> *Sea surface temperature anomalies for the last 8 weeks over the equatorial Pacific Ocean from the [Climate Prediction Center ENSO webpage](https://www.cpc.ncep.noaa.gov/products/precip/CWlink/MJO/enso.shtml).\n",
    "\n",
    "ENSO is strongly linked with changes to the atmospheric circulation, temperature, and precipitation patterns around the globe on seasonal time scales. This behavoir is often refered to as a teleconnection. Because of this teleconnection, ENSO might explain the variability.\n",
    "\n",
    "> ![ENSO equatorial Pacific Niño regions](https://www.ncdc.noaa.gov/monitoring-content/teleconnections/nino-regions.gif)\n",
    ">\n",
    "> *ENSO equatorial Pacific Ocean Niño regions 1+2, 3, 3.4, and 4.*\n",
    "\n",
    "ENSO is measured over regions in the Pacific Ocean. Through this index, phases of ENSO are identified\n",
    "* **Neutral phase**: The Niño3.4 index is between ±0.5 °C\n",
    "* **Warm phase**: The Niño3.4 index is greater than 0.5 °C. Also, referred to as El Niño.\n",
    "* **Cold phase**: The Niño3.4 index is less than 0.5 °C. Also, referred to as La Niña\n"
   ]
  },
  {
   "cell_type": "markdown",
   "id": "1a37a4b7-6857-4143-b40e-e4f6be3f3d27",
   "metadata": {},
   "source": [
    "---\n",
    "## Your tasks\n",
    "\n",
    "### 1. Read in the data\n",
    "\n",
    "* Read in the ENSO Nino34 index values from `monthly_nino34_values.csv`\n",
    "* Read in the monthly mean temperature (F) values and monthly total precipitation (in) from `campus_weather_station_monthly_mean_temperature_total_precip.csv`\n",
    "\n",
    "### 2. Plot the data\n",
    "\n",
    "See if you understand what you are seeing before diving in\n",
    "\n",
    "### 3. Calculate the monthly means\n",
    "\n",
    "* Calculate the monthly mean mean temperature\n",
    "* Calculate the monthly mean total precipitation\n",
    "\n",
    "*Hint: the arrays should be 12 values long*\n",
    "\n",
    "### 4. Compute the anomalies\n",
    "\n",
    "Remove the monthly mean values from the temperature and precipitation\n",
    "\n",
    "*Hint: the arrays should be 1500 values long*\n",
    "\n",
    "### 5. Plot the means and anomalies\n",
    "\n",
    "\n",
    "### 6. Calculate the Pearson correlation coefficient"
   ]
  },
  {
   "cell_type": "code",
   "execution_count": null,
   "id": "1662e291-3da3-47ef-8db7-94ca35166792",
   "metadata": {},
   "outputs": [],
   "source": [
    "# Here are the tools that you will need.\n",
    "%matplotlib inline\n",
    "import numpy as np\n",
    "import pandas as pd\n",
    "import matplotlib.pyplot as plt\n",
    "from scipy.stats import pearsonr"
   ]
  }
 ],
 "metadata": {
  "kernelspec": {
   "display_name": "Python 3",
   "language": "python",
   "name": "python3"
  },
  "language_info": {
   "codemirror_mode": {
    "name": "ipython",
    "version": 3
   },
   "file_extension": ".py",
   "mimetype": "text/x-python",
   "name": "python",
   "nbconvert_exporter": "python",
   "pygments_lexer": "ipython3",
   "version": "3.8.5"
  }
 },
 "nbformat": 4,
 "nbformat_minor": 5
}
