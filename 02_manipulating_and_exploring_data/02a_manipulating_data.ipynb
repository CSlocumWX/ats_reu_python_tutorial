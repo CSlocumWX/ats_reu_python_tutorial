{
 "cells": [
  {
   "cell_type": "markdown",
   "id": "66e22755-5af6-4809-8d2c-92930aced2af",
   "metadata": {},
   "source": [
    "# Manipulating data\n",
    "\n",
    "OK, we've seen how to create lists and array. What to do to work with or change values of data?\n",
    "\n",
    "Let's say that we have a list of 9 values from 0 to 1 and want to multiply it by $\\pi$?"
   ]
  },
  {
   "cell_type": "code",
   "execution_count": null,
   "id": "c1743321-8310-4cba-8eb6-356f256e5618",
   "metadata": {},
   "outputs": [],
   "source": [
    "x_list = [0., 0.125, 0.25, 0.375, 0.5, 0.625, 0.75, 0.875, 1.]"
   ]
  },
  {
   "cell_type": "code",
   "execution_count": null,
   "id": "ce9837cd-74f8-4dca-b8e8-0e7a32ee18be",
   "metadata": {},
   "outputs": [],
   "source": [
    "x_list * 3.14"
   ]
  },
  {
   "cell_type": "markdown",
   "id": "979a05fc-9c4e-4807-ba83-cb7a51257ebd",
   "metadata": {},
   "source": [
    "## Loops!\n",
    "A loop is a way to step through each element of an array.\n",
    "\n",
    "Python has two types of loops\n",
    "* `for` - goes through a fixed, predefined number of iterations ([more on for loops](https://swcarpentry.github.io/python-novice-gapminder/12-for-loops/index.html))\n",
    "* `while` - continues until some condition happens\n",
    "\n",
    "In Python, we iterate over the values using a `for` loop, which we can show as"
   ]
  },
  {
   "cell_type": "code",
   "execution_count": null,
   "id": "e5b53ce0-abf8-4cce-9c3f-349d7d87e17f",
   "metadata": {},
   "outputs": [],
   "source": [
    "for value in x_list:\n",
    "    print(value)"
   ]
  },
  {
   "cell_type": "markdown",
   "id": "48e7ccac-315f-4e7e-a1ca-e18c21eb58c8",
   "metadata": {},
   "source": [
    "Note that the first line of the `for` loop ends with a colon, and the body must be indented 4 spaces.\n",
    "\n",
    "The above is the same as doing the following:"
   ]
  },
  {
   "cell_type": "code",
   "execution_count": null,
   "id": "94389b05-cb05-4777-851c-3ac24a1943f1",
   "metadata": {},
   "outputs": [],
   "source": [
    "print(x_list[0])\n",
    "print(x_list[1])\n",
    "print(x_list[2])"
   ]
  },
  {
   "cell_type": "markdown",
   "id": "d96e045b-0699-4b98-8903-e3b86647df68",
   "metadata": {},
   "source": [
    "How do we use the loop to update the data?"
   ]
  },
  {
   "cell_type": "code",
   "execution_count": null,
   "id": "b7d81d6f-0ea2-4199-84ad-3cfbf2c5d1a6",
   "metadata": {},
   "outputs": [],
   "source": [
    "for i in range(len(x_list)):\n",
    "    print('----------')\n",
    "    print('index value', i)\n",
    "    print('original value', x_list[i])\n",
    "    x_list[i] = x_list[i] * 3.14\n",
    "    print('updated value', x_list[i])\n",
    "print(x_list)"
   ]
  },
  {
   "cell_type": "markdown",
   "id": "70102527-7f24-412b-a510-700ac43f8557",
   "metadata": {},
   "source": [
    "If you think this is cumbersome, you are right! There must be a better way!"
   ]
  },
  {
   "cell_type": "code",
   "execution_count": null,
   "id": "5327fdb9-b723-4398-ab1f-5ac14b8bb617",
   "metadata": {},
   "outputs": [],
   "source": [
    "import numpy as np\n",
    "x_array = np.linspace(0, 1, 9)\n",
    "print('original values', x_array)"
   ]
  },
  {
   "cell_type": "code",
   "execution_count": null,
   "id": "939b15de-9285-463f-a26b-ebbb8272b5f3",
   "metadata": {},
   "outputs": [],
   "source": [
    "x_array *= 3.14\n",
    "print('updated values', x_array)"
   ]
  },
  {
   "cell_type": "markdown",
   "id": "9bffca72-1c29-4012-8e26-4529b3c85874",
   "metadata": {},
   "source": [
    "The same goes for using trig functions. NumPy has trig functions so you don't need to loop through to use them to calculate\n",
    "\n",
    "$$\n",
    "y = \\sin(x).\n",
    "$$"
   ]
  },
  {
   "cell_type": "code",
   "execution_count": null,
   "id": "ffe56793-97c0-4c3f-a4e0-f1bcbc740d4b",
   "metadata": {},
   "outputs": [],
   "source": [
    "y_array = np.sin(x_array)\n",
    "print(y_array)"
   ]
  },
  {
   "cell_type": "markdown",
   "id": "350bb4d8-2ab3-482f-8243-b21dfd534e67",
   "metadata": {},
   "source": [
    "NumPy has a plethora of [mathemtical functions](https://numpy.org/doc/stable/reference/routines.math.html) you can use."
   ]
  },
  {
   "cell_type": "markdown",
   "id": "b4ac0f18-51e4-4b41-b8fc-daae05423263",
   "metadata": {},
   "source": [
    "Er, that's great if you want to update all the values. What if you only want to update some values."
   ]
  },
  {
   "cell_type": "markdown",
   "id": "934985be-8a97-4a4e-86a3-432f8354b167",
   "metadata": {},
   "source": [
    "## Conditional statements\n",
    "\n",
    "An `if` statement (also called a conditional statement) controls whether some code is executed based on a condition! (suprise!)\n",
    "\n",
    "It is written as\n",
    "```\n",
    "if <condition>:\n",
    "    <some action is taken>\n",
    "```\n",
    "\n",
    "For the condition, you use a rational operator:\n",
    "\n",
    "In the examples below, `a = 2.0` and `b = 3.0`.\n",
    "\n",
    "<table>\n",
    "<thead>\n",
    "<tr>\n",
    "<th>Operator</th>\n",
    "<th>Name</th>\n",
    "<th>Description</th>\n",
    "</tr>\n",
    "</thead>\n",
    "<tbody>\n",
    "<tr><td>&lt;</td><td>is less than</td><td>a &lt; b is True</td></tr>\n",
    "<tr><td>&lt;=</td><td>is less than or equal to</td><td>a &lt;= b is True</td></tr>\n",
    "<tr><td>&gt;</td><td>is greater than</td><td>a &gt; b is False</td></tr>\n",
    "<tr><td>&gt;=</td><td>is greater than or equal to</td><td> a &gt;= b is False</td></tr>\n",
    "<tr><td>==</td><td>is equal to</td><td>a == b is False</td></tr>\n",
    "<tr><td>!= &lt;&gt;</td><td>is not equal to</td><td>a != b is True</td></tr>\n",
    "</tbody>\n",
    "</table>\n"
   ]
  },
  {
   "cell_type": "code",
   "execution_count": null,
   "id": "dd333913-c47f-4453-9f7f-e66cb8c7a291",
   "metadata": {},
   "outputs": [],
   "source": [
    "speed = 50  # What Chris's speed on Laporte normally is\n",
    "speed_limit = 40  # What the speed limit on Laporte is\n",
    "if speed > speed_limit:\n",
    "    print(\"Chris could get a ticket\")"
   ]
  },
  {
   "cell_type": "markdown",
   "id": "d905c509-224b-445c-96fc-2b30a5f2334f",
   "metadata": {},
   "source": [
    "What if you want something `else` to happen?"
   ]
  },
  {
   "cell_type": "code",
   "execution_count": null,
   "id": "fc34eaf8-dfcf-4b3c-b53b-4b5cbb8e8e72",
   "metadata": {},
   "outputs": [],
   "source": [
    "speed = 40\n",
    "if speed > speed_limit:\n",
    "    print(\"Chris could get a ticket\")\n",
    "else:\n",
    "    print(\"Chris doesn't have to worry about a ticket\")"
   ]
  },
  {
   "cell_type": "markdown",
   "id": "0b5b4f2c-c123-45c0-abf1-b97603b002c5",
   "metadata": {},
   "source": [
    "Can I get more than two options? You sure can!"
   ]
  },
  {
   "cell_type": "code",
   "execution_count": null,
   "id": "1a754d27-1c43-44a0-ac43-11b5a650e260",
   "metadata": {},
   "outputs": [],
   "source": [
    "speed = 20\n",
    "if speed > speed_limit:\n",
    "    print(\"Chris could get a ticket\")\n",
    "elif speed < speed_limit:\n",
    "    print(\"Chris might make the drivers behind him angry\")\n",
    "else:\n",
    "    print(\"Chris doesn't have to worry\")"
   ]
  },
  {
   "cell_type": "markdown",
   "id": "a48a83ed-bf8f-4b8e-bf5c-10a5d0678cc7",
   "metadata": {},
   "source": [
    "## Combining loops and conditionals\n",
    "\n",
    "Some one gives you longitude values ranging from -180 to 540. You need them to range from 0 to 360 to work with your code. What do you do!\n"
   ]
  },
  {
   "cell_type": "code",
   "execution_count": null,
   "id": "99c02ade-7efe-4f2a-a774-cb0af8b39842",
   "metadata": {},
   "outputs": [],
   "source": [
    "lon_list = [-180, -75, 30, 45, 127, 280, 360, 480, 538]\n",
    "new_lon_list = []\n",
    "\n",
    "for lon_val in lon_list:\n",
    "    if lon_val < 0:\n",
    "        new_lon_list.append(lon_val + 180)\n",
    "    elif lon_val >= 360:\n",
    "        new_lon_list.append(lon_val - 180)\n",
    "    else:\n",
    "        new_lon_list.append(lon_val)\n",
    "        \n",
    "print(new_lon_list)"
   ]
  },
  {
   "cell_type": "markdown",
   "id": "0b0251c2-d629-4164-97bc-67cef199e728",
   "metadata": {},
   "source": [
    "## Does NumPy have a better way?"
   ]
  },
  {
   "cell_type": "code",
   "execution_count": null,
   "id": "f93af39a-3be6-4952-bf07-6b1f94021ef9",
   "metadata": {},
   "outputs": [],
   "source": [
    "lon_array = np.array(lon_list)\n",
    "\n",
    "condition_less = lon_array < 0\n",
    "condition_greater = lon_array >= 360\n",
    "lon_array[condition_less] += 180\n",
    "lon_array[condition_greater] -= 180\n",
    "print(lon_array)"
   ]
  },
  {
   "cell_type": "markdown",
   "id": "dfe09630-acf1-4ffa-9c1b-730feeba08dc",
   "metadata": {},
   "source": [
    "### How does that work?\n",
    "\n",
    "NumPy allows slicing with `start:stop:step` or an array of Booleans."
   ]
  },
  {
   "cell_type": "code",
   "execution_count": null,
   "id": "b7259ce5-b78d-4e16-bcde-25f809b31e0a",
   "metadata": {},
   "outputs": [],
   "source": [
    "start = 1\n",
    "stop = 3  # up to, but not including\n",
    "step = 1\n",
    "print(lon_array[start:stop:step])"
   ]
  },
  {
   "cell_type": "code",
   "execution_count": null,
   "id": "dfbf63bb-f188-4be0-85d8-ba8e6985276b",
   "metadata": {},
   "outputs": [],
   "source": [
    "print(condition_less)\n",
    "print(lon_array[condition_less])"
   ]
  },
  {
   "cell_type": "markdown",
   "id": "0ebf6240-78ec-4d66-a516-dcf5dce50735",
   "metadata": {},
   "source": [
    "## My friend gave me lots of arrays to fix. What do I do?\n",
    "\n",
    "For creating a piece of reusable code, you can create a function"
   ]
  },
  {
   "cell_type": "code",
   "execution_count": null,
   "id": "17da75b4-16e6-4016-8467-37bf436d5c32",
   "metadata": {},
   "outputs": [],
   "source": [
    "def awesome_longitude_fix(lon_array):\n",
    "    \"\"\"\n",
    "    Fixes longitude values to be between 0 & 360\n",
    "\n",
    "    Parameters\n",
    "    ----------\n",
    "    lon_array : array-like\n",
    "        array of longitude values that needs to be fixed\n",
    "\n",
    "    Return\n",
    "    ------\n",
    "    lon_array : array-like\n",
    "        longitude array between 0 & 360\n",
    "    \"\"\"\n",
    "    condition_less = lon_array < 0\n",
    "    condition_greater = lon_array >= 360\n",
    "    lon_array[condition_less] += 180\n",
    "    lon_array[condition_greater] -= 180\n",
    "    return lon_array"
   ]
  },
  {
   "cell_type": "code",
   "execution_count": null,
   "id": "0ae21bad-ddf7-40bf-849d-89048f501e53",
   "metadata": {},
   "outputs": [],
   "source": [
    "lon1 = np.array([-172, -90])\n",
    "lon2 = np.array([30, 0])\n",
    "lon3 = np.array([380, 420])\n",
    "lon1 = awesome_longitude_fix(lon1)\n",
    "lon2 = awesome_longitude_fix(lon2)\n",
    "lon3 = awesome_longitude_fix(lon3)\n",
    "print(lon1, lon2, lon3)"
   ]
  },
  {
   "cell_type": "markdown",
   "id": "b8e3c32f-6590-4127-91fc-45e8283a6548",
   "metadata": {},
   "source": [
    "### What if I want to share my awesome function?"
   ]
  },
  {
   "cell_type": "code",
   "execution_count": null,
   "id": "b6682445-b03f-456b-b3d8-40a976a62ce6",
   "metadata": {},
   "outputs": [],
   "source": [
    "from awesome_code import awesome_longitude_fix as fix_longitude\n",
    "\n",
    "lon1 = np.array([-172, -90])\n",
    "lon2 = np.array([30, 0])\n",
    "lon3 = np.array([380, 420])\n",
    "lon1 = fix_longitude(lon1)\n",
    "lon2 = fix_longitude(lon2)\n",
    "lon3 = fix_longitude(lon3)\n",
    "print(lon1, lon2, lon3)"
   ]
  },
  {
   "cell_type": "markdown",
   "id": "ee2a4753-ec4e-41b1-8d32-ebaa47e5c8ff",
   "metadata": {},
   "source": [
    "### But, wait, we are still repeating code\n",
    "\n",
    "Whenever you realize that you've repeated code, you should say to yourself \"there must be a better way!\""
   ]
  },
  {
   "cell_type": "code",
   "execution_count": null,
   "id": "80be9ecf-57e1-4352-8320-cd570b0de886",
   "metadata": {},
   "outputs": [],
   "source": [
    "lon1 = np.array([-172, -90])\n",
    "lon2 = np.array([30, 0])\n",
    "lon3 = np.array([380, 420])\n",
    "for lon in [lon1, lon2, lon3]:\n",
    "    lon = fix_longitude(lon)\n",
    "print(lon1, lon2, lon3)"
   ]
  },
  {
   "cell_type": "markdown",
   "id": "2669d770-a59a-404c-9ed8-a9b463d7a6df",
   "metadata": {},
   "source": [
    "\n",
    "   <b>Why does <code>lon</code> change <code>lon1</code>, <code>lon2</code>, and <code>lon3</code>?</b><br>\n",
    "\n",
    "   <code>lon</code> is a temporary <code>identifier</code> that <b>points</b> to the address where the values for <code>lon1</code>, <code>lon2</code>, and <code>lon3</code> are stored in memory. This relates to a gotcha that you need to watch out for.\n"
   ]
  },
  {
   "cell_type": "markdown",
   "id": "ee1a2a98-4e1a-4f6c-9bc6-3a2f5aad0fb7",
   "metadata": {},
   "source": [
    "### But, wait, each step of the loop repeats\n",
    "\n",
    "Can't we do this at the same time?\n",
    "\n",
    "In this example, we have what's called an embarrassingly parallel task. We can use task parallelism to do this work. Check out more details on [joblib](https://joblib.readthedocs.io/en/stable/parallel.html).\n"
   ]
  },
  {
   "cell_type": "code",
   "execution_count": null,
   "id": "ed01c795-b025-42ed-9467-63b464745059",
   "metadata": {},
   "outputs": [],
   "source": [
    "from joblib import Parallel, delayed\n",
    "Parallel(n_jobs=3)(delayed(fix_longitude)(lon) for lon in [lon1, lon2, lon3])"
   ]
  },
  {
   "cell_type": "markdown",
   "id": "7ece5745-a868-4101-98cb-464d96a90308",
   "metadata": {},
   "source": [
    "<div class=\"alert alert-block alert-info\"><b>Hint</b> Be a thoughtful machine user. Check how many cores your machine has with <code>lscpu</code> and use <code>top</code> to see what resources other users are using.</div>"
   ]
  },
  {
   "cell_type": "markdown",
   "id": "f797a9cd-5d7c-45fc-8829-c9ded0a08027",
   "metadata": {},
   "source": [
    "<div class=\"alert alert-block alert-danger\">\n",
    "    <h3>Example on a big gotcha!</h3>\n",
    "</div>\n",
    "An important gotcha with lists &amp; arrays."
   ]
  },
  {
   "cell_type": "code",
   "execution_count": null,
   "id": "da0adbc7-5cd9-4924-afc4-27e35ba76bb8",
   "metadata": {},
   "outputs": [],
   "source": [
    "x = np.array([1, 2, 3])\n",
    "y = x\n",
    "y[0] = 9"
   ]
  },
  {
   "cell_type": "markdown",
   "id": "e14758b4-024f-462b-af56-d6b924ef37c3",
   "metadata": {},
   "source": [
    "What is the value of `y[0]` and `x[0]`?"
   ]
  },
  {
   "cell_type": "code",
   "execution_count": null,
   "id": "987b0b96-c43b-462c-b8e9-ea5eb13f8f3f",
   "metadata": {},
   "outputs": [],
   "source": [
    "print(y[0], x[0])"
   ]
  },
  {
   "cell_type": "markdown",
   "id": "afed938e-f413-47e9-8494-41ad8e6f6b0c",
   "metadata": {},
   "source": [
    "<div class=\"alert alert-block alert-info\"><b>Hint</b> This is similar to <code>lon</code> in the loop in the last section.</div>"
   ]
  },
  {
   "cell_type": "markdown",
   "id": "49b1e571-d31b-4f88-a242-06850bb3541c",
   "metadata": {},
   "source": [
    "## Additional resources for data manipulation\n",
    "* [Software Carpentry: Python novice - for loops](https://swcarpentry.github.io/python-novice-gapminder/12-for-loops/index.html)\n",
    "* [Software Carpentry: Python novice - conditionals](https://swcarpentry.github.io/python-novice-gapminder/13-conditionals/index.html)\n",
    "* [Unidata: Loops](https://unidata.github.io/python-training/python/loops/)\n",
    "* [Unidata: Conditionals](https://unidata.github.io/python-training/python/conditionals/)\n",
    "* [Unidata: Functions](https://unidata.github.io/python-training/python/functions/)\n",
    "* [Unidata: NumPy Basics](https://unidata.github.io/python-training/workshop/NumPy/numpy-basics/)"
   ]
  },
  {
   "cell_type": "code",
   "execution_count": null,
   "id": "46dbe456-5470-4463-9c0e-0ebd75761e2e",
   "metadata": {},
   "outputs": [],
   "source": []
  }
 ],
 "metadata": {
  "kernelspec": {
   "display_name": "Python 3 (ipykernel)",
   "language": "python",
   "name": "python3"
  },
  "language_info": {
   "codemirror_mode": {
    "name": "ipython",
    "version": 3
   },
   "file_extension": ".py",
   "mimetype": "text/x-python",
   "name": "python",
   "nbconvert_exporter": "python",
   "pygments_lexer": "ipython3",
   "version": "3.9.5"
  }
 },
 "nbformat": 4,
 "nbformat_minor": 5
}
