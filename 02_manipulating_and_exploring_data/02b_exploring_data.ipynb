{
 "cells": [
  {
   "cell_type": "markdown",
   "id": "088324a9-3c59-4cdb-88ef-0574b95a582c",
   "metadata": {},
   "source": [
    "# Exploring Data - the fun stuff!"
   ]
  },
  {
   "cell_type": "markdown",
   "id": "6d290c95-0129-4975-b516-8a6b97b9b3bb",
   "metadata": {},
   "source": [
    "## Reading in data\n",
    "\n",
    "Today, I'm going to show you how to read in tabular data. Next week, you'll discuss a common data format called NetCDF that contains multidimensional data."
   ]
  },
  {
   "cell_type": "code",
   "execution_count": null,
   "id": "96431780-d7ca-473d-b888-4210dcb217d6",
   "metadata": {},
   "outputs": [],
   "source": [
    "%matplotlib inline\n",
    "import numpy as np\n",
    "import pandas as pd\n",
    "import matplotlib.pyplot as plt\n",
    "import datetime"
   ]
  },
  {
   "cell_type": "markdown",
   "id": "72baa9c7-9aab-4066-93b2-49b7c60bf951",
   "metadata": {},
   "source": [
    "* [NumPy](https://numpy.org/) - Numerical Python package for array/matrix data manipulation\n",
    "* [Pandas](https://pandas.pydata.org/) - Panal data or tabular data reading and manipulation\n",
    "* [matplotlib](https://matplotlib.org/) - plotting library\n",
    "* [datetime](https://docs.python.org/3/library/datetime.html) - standard library time package\n",
    "* [scipy](https://www.scipy.org/) - scientific Python (we'll import later)"
   ]
  },
  {
   "cell_type": "markdown",
   "id": "5b15b1af-3531-4991-a603-b78124eae747",
   "metadata": {},
   "source": [
    "## Christman Field Weather Station\n",
    "\n",
    "[Christman Field real time data](https://www.atmos.colostate.edu/fccwx/fccwx_latest.php)\n",
    "\n",
    "To read the data, we use Pandas. Specifically, the [`read_csv`](https://pandas.pydata.org/pandas-docs/stable/reference/api/pandas.read_csv.html) function."
   ]
  },
  {
   "cell_type": "code",
   "execution_count": null,
   "id": "625a405a-8381-4752-b17a-cf6933f5a88c",
   "metadata": {},
   "outputs": [],
   "source": [
    "filename = './christman_field_20201010-20201014.csv'\n",
    "christman_field = pd.read_csv(filename, header=0)"
   ]
  },
  {
   "cell_type": "code",
   "execution_count": null,
   "id": "c79ad82c-6114-484f-aae9-4fca485a8738",
   "metadata": {},
   "outputs": [],
   "source": [
    "print(christman_field)"
   ]
  },
  {
   "cell_type": "markdown",
   "id": "f05ddbf4-ec96-4d56-be04-b578b27759a6",
   "metadata": {},
   "source": [
    "### To extact pieces of data from Pandas\n",
    "\n",
    "For column data, the interface is similar to the Python dictionary key-value pair. Printing returns a Pandas DataSeries, which is essentially a NumPy array with metadata.\n",
    "\n",
    "We also use the `to_datetime` function in Pandas to convert the date time strings into data information we can use."
   ]
  },
  {
   "cell_type": "code",
   "execution_count": null,
   "id": "b33420b2-e5fe-438b-9e44-4c925eb23a7e",
   "metadata": {},
   "outputs": [],
   "source": [
    "time = pd.to_datetime(christman_field[\"DateTime\"])\n",
    "temperature = christman_field[\"Temp\"]\n",
    "solar = christman_field[\"Solar\"]\n",
    "wind = christman_field[\"Wind\"]\n",
    "print(time)\n",
    "print(temperature)\n",
    "print(solar)\n",
    "print(wind)"
   ]
  },
  {
   "cell_type": "markdown",
   "id": "0a3745d3-3c1f-4d15-ae20-c547727282e0",
   "metadata": {},
   "source": [
    "With the arrays, we can calculate some basic statistics on the temperature and incoming solar radiation"
   ]
  },
  {
   "cell_type": "code",
   "execution_count": null,
   "id": "0461ec48-2b7c-4da3-a3f1-8a41e2f61074",
   "metadata": {},
   "outputs": [],
   "source": [
    "print('Temperature (C)')\n",
    "print('\\tMax:', np.max(temperature))\n",
    "print('\\tMin:', np.min(temperature))\n",
    "print('\\tMean:', np.mean(temperature))\n",
    "print('Wind (mph)')\n",
    "print('\\tMax:', np.max(wind))\n",
    "print('\\tMin:', np.min(wind))\n",
    "print('\\tMean:', np.mean(wind))\n",
    "print('Incoming Solar Radiation (W/m2)')\n",
    "print('\\tMax:', np.max(solar))\n",
    "print('\\tMin:', np.min(solar))\n",
    "print('\\tMean:', np.mean(solar))"
   ]
  },
  {
   "cell_type": "markdown",
   "id": "b34e6241-9857-4d3a-a989-e627f8eec3fc",
   "metadata": {},
   "source": [
    "Let's visualize the data!"
   ]
  },
  {
   "cell_type": "code",
   "execution_count": null,
   "id": "48e4e0a0-e90f-4aa3-a8eb-6f290aac5470",
   "metadata": {},
   "outputs": [],
   "source": [
    "fig, ax = plt.subplots()\n",
    "plt.plot(time, temperature, color='r')\n",
    "plt.xlabel('Time')\n",
    "plt.ylabel('Temperature (C)')\n",
    "plt.xticks([datetime.date(2020, 10, 10), datetime.date(2020, 10, 11), datetime.date(2020, 10, 12), \n",
    "            datetime.date(2020, 10, 13), datetime.date(2020, 10, 14), datetime.date(2020, 10, 15)], rotation=45);\n",
    "fig, ax = plt.subplots()\n",
    "plt.plot(time, wind, color='b')\n",
    "plt.xlabel('Time')\n",
    "plt.ylabel('Wind (mph)')\n",
    "plt.xticks([datetime.date(2020, 10, 10), datetime.date(2020, 10, 11), datetime.date(2020, 10, 12), \n",
    "            datetime.date(2020, 10, 13), datetime.date(2020, 10, 14), datetime.date(2020, 10, 15)], rotation=45);\n",
    "\n",
    "fig, ax = plt.subplots()\n",
    "plt.plot(time, solar, color='y')\n",
    "plt.xlabel('Time')\n",
    "plt.ylabel('Solar (W/m2)')\n",
    "plt.xticks([datetime.date(2020, 10, 10), datetime.date(2020, 10, 11), datetime.date(2020, 10, 12), \n",
    "            datetime.date(2020, 10, 13), datetime.date(2020, 10, 14), datetime.date(2020, 10, 15)], rotation=45);"
   ]
  },
  {
   "cell_type": "markdown",
   "id": "85bbb934-15a6-404d-8abd-d08a55137642",
   "metadata": {},
   "source": [
    "\n",
    "Thoughts on what is going on?\n",
    "\n",
    "[Cheyenne radar loop](http://schubert.atmos.colostate.edu/~cslocum/nexrad/img/levelii/20201014_kcys.gif)\n",
    "\n",
    "\n",
    "## Is solar radiation correlated to the temperature?\n",
    "\n",
    "We need a statistics package! Fortunately, there is one - SciPy!\n",
    "\n",
    "We can import the [Pearson correlation coefficient](https://docs.scipy.org/doc/scipy-0.14.0/reference/generated/scipy.stats.pearsonr.html) function to calculate R and the accompanying p-value."
   ]
  },
  {
   "cell_type": "code",
   "execution_count": null,
   "id": "a27d6bab-8bc4-41b9-aebf-fe7123452899",
   "metadata": {},
   "outputs": [],
   "source": [
    "from scipy.stats import pearsonr\n",
    "\n",
    "r, pvalue = pearsonr(temperature, solar)\n",
    "print('R', r)\n",
    "print('p-value', pvalue)"
   ]
  },
  {
   "cell_type": "code",
   "execution_count": null,
   "id": "63886882-2ec2-425c-8a44-928c9653d8c3",
   "metadata": {},
   "outputs": [],
   "source": []
  }
 ],
 "metadata": {
  "kernelspec": {
   "display_name": "Python 3 (ipykernel)",
   "language": "python",
   "name": "python3"
  },
  "language_info": {
   "codemirror_mode": {
    "name": "ipython",
    "version": 3
   },
   "file_extension": ".py",
   "mimetype": "text/x-python",
   "name": "python",
   "nbconvert_exporter": "python",
   "pygments_lexer": "ipython3",
   "version": "3.9.5"
  }
 },
 "nbformat": 4,
 "nbformat_minor": 5
}
