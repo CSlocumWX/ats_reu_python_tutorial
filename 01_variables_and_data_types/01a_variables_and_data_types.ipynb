{
 "cells": [
  {
   "cell_type": "markdown",
   "id": "bf1e3d71-96b1-48f1-8000-69226525b69d",
   "metadata": {},
   "source": [
    "# Data types and operators and variable assignment! Oh, my!\n",
    "\n",
    "\n",
    "![Wizard of Oz](https://1.bp.blogspot.com/-bEufE8J58HE/V380zPEanVI/AAAAAAAAKH4/xWowUUEpniEsRShJhXDvcOML9ON8ovvoACLcB/s1600/wizardofoz.gif)\n",
    "\n",
    "## Python's primative data types\n",
    "\n",
    "We can inspect the data types by using one of Python's built in functions, `type()`.\n",
    "\n",
    "### Numeric Data Types\n",
    "Numbers seem like a natural place to start considering numbers rule our field. The Python programming language has three types:\n",
    "\n",
    "* Integers - `int`\n",
    "* Floating-point Values - `float`\n",
    "* Complex/Imaginary Numbers - `complex`"
   ]
  },
  {
   "cell_type": "code",
   "execution_count": null,
   "id": "0df0f1b7-e058-4c7d-9ace-f0da9f479c3b",
   "metadata": {},
   "outputs": [],
   "source": [
    "print(\"Integer\", 0, type(0))\n",
    "print(\"Float\", 3.14, type(3.14))\n",
    "print(\"Complex\", 2+3j, type(2+3j))"
   ]
  },
  {
   "cell_type": "markdown",
   "id": "034c0f8b-de6e-4c97-bbd5-d47ab660ccd6",
   "metadata": {},
   "source": [
    "### Boolean Data Type\n",
    "Like in other languages, the Boolean data type can only represent two values: `0`, `1` or `False`, `True`. We traditionally think of the Boolean data type in terms of logic."
   ]
  },
  {
   "cell_type": "code",
   "execution_count": null,
   "id": "f401ba29-6e3d-4121-884c-abb1b5edd496",
   "metadata": {},
   "outputs": [],
   "source": [
    "print(\"True\", True, type(True))\n",
    "print(\"False\", False, type(False))"
   ]
  },
  {
   "cell_type": "markdown",
   "id": "486751ff-29a0-412d-95a6-f1e298befe42",
   "metadata": {},
   "source": [
    "### String/Character Data Type\n",
    "\n",
    "The last primitive data type we will discuss is strings. unlike other languages. Python only has one character/string type. However, Python strings can be expressed in several ways. Strings can be enclosed in\n",
    "* single-, `'`,\n",
    "* double-, `\"` or\n",
    "* triple-, `\"\"\"`/`'''`\n",
    "quotes. Triple tends to be reserved for docstrings.\n",
    "\n"
   ]
  },
  {
   "cell_type": "code",
   "execution_count": null,
   "id": "d99a6ec9-59fa-4cef-a739-060f439a39d9",
   "metadata": {},
   "outputs": [],
   "source": [
    "print(\"Str\", \"Hello, World!\", type(\"Hello, World!\"))"
   ]
  },
  {
   "cell_type": "markdown",
   "id": "9a5603f1-76f7-4946-ba50-fb03d86ca6e5",
   "metadata": {},
   "source": [
    "#### String formatting\n",
    "Escape sequences can be added to a string to add some sort of formatting.\n",
    "<table>\n",
    "  <thead>\n",
    "    <tr>\n",
    "      <th>Escape Sequence</th>\n",
    "      <th>Behavior</th>\n",
    "    </tr>\n",
    "  </thead>\n",
    "  <tbody>\n",
    "    <tr>\n",
    "      <td><pre>\\newline</pre></td>\n",
    "      <td>Inserts a newline</td>\n",
    "    </tr>\n",
    "    <tr>\n",
    "      <td><pre>\\\\</pre></td>\n",
    "      <td>Backslash</td>\n",
    "    </tr>\n",
    "    <tr>\n",
    "      <td><pre>\\'</pre></td>\n",
    "      <td>Single-quote</td>\n",
    "    </tr>\n",
    "    <tr>\n",
    "      <td><pre>\\\"</pre></td>\n",
    "      <td>Double-quote</td>\n",
    "    </tr>\n",
    "    <tr>\n",
    "      <td><pre>\\n</pre></td>\n",
    "      <td>New line</td>\n",
    "    </tr>\n",
    "    <tr>\n",
    "      <td><pre>\\r</pre></td>\n",
    "      <td>Return</td>\n",
    "    </tr>\n",
    "    <tr>\n",
    "      <td><pre>\\t</pre></td>\n",
    "      <td>Horizontal tab</td>\n",
    "    </tr>\n",
    "  </tbody>\n",
    "</table>\n",
    "    \n"
   ]
  },
  {
   "cell_type": "markdown",
   "id": "7a8cdf87-ce34-4fe6-af71-0b8bf13833ca",
   "metadata": {},
   "source": [
    "#### Format Specification Mini-Language\n",
    "Even fancier formatting options are available to insert other data types into a string. See https://docs.python.org/3/library/string.html#format-specification-mini-language for more details."
   ]
  },
  {
   "cell_type": "code",
   "execution_count": null,
   "id": "76c40130-d24e-48b9-af3a-01a700fdf3fc",
   "metadata": {},
   "outputs": [],
   "source": [
    "print(\"{city}:\\n\\t{lat:.2f}N {lon:.2f}W\".format(city=\"Fort Collins\", lat=40.5853, lon=105.0844))"
   ]
  },
  {
   "cell_type": "markdown",
   "id": "e2904a32-dd80-4a2e-bb46-8495b938b972",
   "metadata": {},
   "source": [
    "## Operators and variable assignment\n",
    "\n",
    "### The Assignment Operator\n",
    "\n",
    "An assignment statement is used to set an `identifier` (variable) to the value of a given `expression` through use of the assignment operator, `=`.\n",
    "\n",
    "```python\n",
    "identifier = expression\n",
    "```\n",
    "\n",
    "*Warning: A note on __pointers__ to come.*"
   ]
  },
  {
   "cell_type": "code",
   "execution_count": null,
   "id": "1260f06e-dbcd-401d-ad27-4bc79134270a",
   "metadata": {},
   "outputs": [],
   "source": [
    "g = 8"
   ]
  },
  {
   "cell_type": "markdown",
   "id": "fd3a193d-b318-4f7c-9e0c-2846bddaf69c",
   "metadata": {},
   "source": [
    "### Arithmetic Operators\n",
    "In the examples below, `a = 2.0` and `b = 3.0`. \n",
    "<table>\n",
    "<thead>\n",
    "<tr>\n",
    "<th>Operator</th>\n",
    "<th>Name</th>\n",
    "<th>Description</th>\n",
    "</tr>\n",
    "</thead>\n",
    "<tbody>\n",
    "<tr><td>+</td><td>Addition</td><td>a + b will give 5</td></tr>\n",
    "<tr><td>-</td><td>Subtraction</td><td>b - a will give 1</td></tr>\n",
    "<tr><td>*</td><td>Multiplication</td><td>a * b will give 6</td></tr>\n",
    "<tr><td>/</td><td>Division</td><td>b / a will give 1.5</td></tr>\n",
    "<tr><td>%</td><td>Modulus</td><td>b % a will give 1</td></tr>\n",
    "<tr><td>**</td><td>Exponential/Power</td><td>a ** 3 will give 8</td></tr>\n",
    "<tr><td>//</td><td>Floor (Integer) Division</td><td>a // b will give 0</td></tr>\n",
    "</tbody>\n",
    "</table>"
   ]
  },
  {
   "cell_type": "code",
   "execution_count": null,
   "id": "94dacbd5-4570-4fed-94b3-086e008ca39f",
   "metadata": {},
   "outputs": [],
   "source": [
    "a = 2.\n",
    "b = 3.\n",
    "a * b"
   ]
  },
  {
   "cell_type": "markdown",
   "id": "3099e7b3-e5bc-4355-8914-dee53921fae6",
   "metadata": {},
   "source": [
    "### Abbreviated Assignment Operators\n",
    "\n",
    "The purpose of the abbreviated assignment operators is to provide the programmer with shorthand for popular assignment expressions.\n",
    "\n",
    "```\n",
    "identifier = identifier operator expression\n",
    "```\n",
    "becomes\n",
    "```\n",
    "identifier operator = expression\n",
    "```\n",
    "\n",
    "Python supports most of your standard abbreviations.\n",
    "\n",
    "<table>\n",
    "<thead>\n",
    "<tr>\n",
    "<th>Operator</th>\n",
    "<th>Name</th>\n",
    "<th>Description</th>\n",
    "</tr>\n",
    "</thead>\n",
    "<tbody>\n",
    "<tr><td>+=</td><td>addition and assignment operator</td><td>a += b is equivalent to a = a + b</td></tr>\n",
    "<tr><td>-=</td><td>subtraction and assignment operator</td><td>b += a is equivalent to b = b - a</td></tr>\n",
    "<tr><td>*=</td><td>multiplication and assignment operator</td><td>b *= a is equivalent to b = b * a</td></tr>\n",
    "<tr><td>/=</td><td>division and assignment operator</td><td>b /= a is equivalent to b = b / a</td></tr>\n",
    "<tr><td>%=</td><td>Modulus and assignment operator</td><td>b %= a is equivalent to b = b % a</td></tr>\n",
    "<tr><td>**=</td><td>Exponential/Power and assignment operator</td><td>a **= b is equivalent to a = a ** b</td></tr>\n",
    "<tr><td>//=</td><td>Floor division and assignment operator</td><td>a //= b is equivalent to a = a // b</td></tr>\n",
    "</tbody>\n",
    "</table>"
   ]
  },
  {
   "cell_type": "markdown",
   "id": "353fd6d1-b785-49f4-bba6-0d0b983f613b",
   "metadata": {},
   "source": [
    "## The joys of an interpolated language and dynamics data types"
   ]
  },
  {
   "cell_type": "markdown",
   "id": "cc1eb5f3-6ca0-4d59-8d74-c1735f394268",
   "metadata": {},
   "source": [
    "Below is an example Fortran program that calculates the area of an annulus between radius a and radius b. Note that we have to tell the Fortran compile the data types for `a`, `b`, `c`, and `d`.\n",
    "\n",
    "```fortran\n",
    "program example\n",
    "    ! calculate the area of an annulus\n",
    "    ! The section below \"declares\" the variables\n",
    "    int :: a, b\n",
    "    real :: c, d\n",
    "    ! The section below assigns values\n",
    "    a = 1\n",
    "    b = 2\n",
    "    c = 3.14\n",
    "    ! Calculates the area and assigns the result to d\n",
    "    d = c * (b * b - a * a)\n",
    "    ! prints the result\n",
    "    write(*, *) d\n",
    "end program example\n",
    "```\n",
    "\n",
    "What if I want `a` to be assigned the value of `1.5`? Can I do that?\n",
    "\n",
    "Lets calculate this in Python!"
   ]
  },
  {
   "cell_type": "code",
   "execution_count": null,
   "id": "ea3cf66e-c1af-4986-a41a-f17bb33425eb",
   "metadata": {},
   "outputs": [],
   "source": [
    "a = 1\n",
    "b = 2\n",
    "c = 3.14\n",
    "d = c * (b * b - a * a)\n",
    "print(d)\n",
    "\n",
    "a = 1.5\n",
    "d = c * (b * b - a * a)\n",
    "print(d)"
   ]
  },
  {
   "cell_type": "markdown",
   "id": "73d8f190-3398-4287-a640-cb55b18348f4",
   "metadata": {},
   "source": [
    "The ability of `a` to change types is called \"dynamic typing.\""
   ]
  },
  {
   "cell_type": "code",
   "execution_count": null,
   "id": "8b79d56d-0dbf-4402-abde-68c2495ba068",
   "metadata": {},
   "outputs": [],
   "source": [
    "a = 'b'\n",
    "d = c * (b * b - a * a)\n",
    "print(d)"
   ]
  },
  {
   "cell_type": "markdown",
   "id": "0224be3d-6ed1-4295-bcb1-6fcc338b20fc",
   "metadata": {},
   "source": [
    "## Lets take a second and create an expression for the area of an annulus\n",
    "\n",
    "The equation for the area of an annulus is\n",
    "$$\n",
    "A = \\pi(R^2﹣r^2),\n",
    "$$\n",
    "where $A$ is the area, $R$ is the outer radius, and $r$ is the inner radius.\n",
    "\n",
    "OK, lets code it up. What do we need?\n",
    "* an `identifier` for storing the `float` $\\pi\\approx3.14$\n",
    "* an `identifier` for storing the `float` for the outer radius\n",
    "* an `identifier` for storing the `float` for the inner radius\n",
    "* an `identifier` for storing output of the `expression` for the area.\n",
    "\n",
    "Try to code this up yourself.\n",
    "\n",
    "Then, set the outer radius to 800 km and the inner radius to 200 km. What's the area?\n"
   ]
  },
  {
   "cell_type": "code",
   "execution_count": null,
   "id": "f80175a4-255e-4d6d-8772-e45bbe9b861f",
   "metadata": {},
   "outputs": [],
   "source": [
    "# Code for calculating the area of an annulus\n",
    "\n"
   ]
  },
  {
   "cell_type": "markdown",
   "id": "0df7dd2e-9f70-4ccf-9d4b-9f1354d5cb6a",
   "metadata": {},
   "source": [
    "### How would you use the Abbreviated Assignment Operators to turn the area of the annulus into the volume of a hollow cylinder?\n",
    "\n",
    "The equation of the volume of a hollow cylinder is\n",
    "$$\n",
    "V = \\pi (R^2 -r^2)h\n",
    "$$\n",
    "where $V$ is the volume and $h$ is the height.\n",
    "\n",
    "What do you need?\n",
    "* an `identifier` for storing the `float` for the height\n",
    "* the correct Abbreviated Assignment Operator for multiplication operator to get `identifier operator = expression` \n",
    "\n",
    "Try this yourself with a height of 100 km."
   ]
  },
  {
   "cell_type": "code",
   "execution_count": null,
   "id": "622f5442-2f7c-4ea6-97b0-962f17ffe829",
   "metadata": {},
   "outputs": [],
   "source": [
    "# Code for using the abbreviated assignment operator to make area into the volume\n",
    "\n"
   ]
  },
  {
   "cell_type": "markdown",
   "id": "378229a2-a8f3-4d69-bbfe-81b7f80a499a",
   "metadata": {},
   "source": [
    "## For more data type, operator, and assignment fun\n",
    "\n",
    "* [Software Carpentry: Python Novice - Data Types and Type Conversion](https://swcarpentry.github.io/python-novice-gapminder/03-types-conversion/index.html)"
   ]
  },
  {
   "cell_type": "code",
   "execution_count": null,
   "id": "fbaa3314-8c4a-4f73-8831-47b90e92f543",
   "metadata": {},
   "outputs": [],
   "source": []
  }
 ],
 "metadata": {
  "kernelspec": {
   "display_name": "Python 3 (ipykernel)",
   "language": "python",
   "name": "python3"
  },
  "language_info": {
   "codemirror_mode": {
    "name": "ipython",
    "version": 3
   },
   "file_extension": ".py",
   "mimetype": "text/x-python",
   "name": "python",
   "nbconvert_exporter": "python",
   "pygments_lexer": "ipython3",
   "version": "3.9.5"
  }
 },
 "nbformat": 4,
 "nbformat_minor": 5
}
