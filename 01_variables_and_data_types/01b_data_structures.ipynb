{
 "cells": [
  {
   "cell_type": "markdown",
   "id": "29d85c92-0609-43c0-b09e-9f5df034eb88",
   "metadata": {},
   "source": [
    "# Data structures!\n",
    "\n",
    "## Python data structure\n",
    "\n",
    "### Lists and tuples\n",
    "\n",
    "Lists and tuples are collections of items.\n",
    "\n",
    "\n",
    "* Lists use square brackets `[` and `]`\n",
    "* Tuples use parathesis `(` and `)`\n"
   ]
  },
  {
   "cell_type": "code",
   "execution_count": null,
   "id": "834ae8ea-60fd-4228-9321-54f64b488680",
   "metadata": {},
   "outputs": [],
   "source": [
    "x = [0, 'a', True, [1.2, 9]]  # This is a list\n",
    "y = (1, ' b', False, (3.4, 2))  # This is a tuple\n",
    "\n",
    "print(x)\n",
    "print(y)"
   ]
  },
  {
   "cell_type": "markdown",
   "id": "a3af8003-c55a-4355-9cc5-2672cb3a0cd0",
   "metadata": {},
   "source": [
    "To access an item (element), you use an index. So, an index of `1` would return \"a\" from `x` and \"b\" from `y`."
   ]
  },
  {
   "cell_type": "code",
   "execution_count": null,
   "id": "731a32bd-9d6c-4350-8e3f-9c1bade86667",
   "metadata": {},
   "outputs": [],
   "source": [
    "print(x[1], y[1])"
   ]
  },
  {
   "cell_type": "markdown",
   "id": "40b8c1f3-6188-46c6-a225-5bcc2d7a83c2",
   "metadata": {},
   "source": [
    "We can use the Python built-in function `len` to get the size."
   ]
  },
  {
   "cell_type": "code",
   "execution_count": null,
   "id": "5c20d6d8-d7df-4e44-9369-6c769094f67b",
   "metadata": {},
   "outputs": [],
   "source": [
    "print(len(x), len(y))"
   ]
  },
  {
   "cell_type": "markdown",
   "id": "e4c81f6b-05d5-4c95-9a5b-4adca085b90b",
   "metadata": {},
   "source": [
    "Lists and tuples are similar with a key difference. Lists are mutable (you can change item values) and tuples are immutable (you can't change item values)."
   ]
  },
  {
   "cell_type": "markdown",
   "id": "d23a5d5d-d9c9-428b-9baf-05e534e4344f",
   "metadata": {},
   "source": [
    "x[1] = 'bob'\n",
    "print(x)"
   ]
  },
  {
   "cell_type": "code",
   "execution_count": null,
   "id": "e92f9d3f-bb83-49d9-acac-a0fd7de40a67",
   "metadata": {},
   "outputs": [],
   "source": [
    "y[1] = 'bob'\n",
    "print(y)"
   ]
  },
  {
   "cell_type": "markdown",
   "id": "60abd6dc-dc22-4991-8132-2c418a081781",
   "metadata": {},
   "source": [
    "#### Adding to a list can be done in two ways"
   ]
  },
  {
   "cell_type": "code",
   "execution_count": null,
   "id": "738adcc8-35f8-4fcc-8ca0-c33fa3c573c3",
   "metadata": {},
   "outputs": [],
   "source": [
    "x.append('barker')\n",
    "x += [42]\n",
    "\n",
    "print('x', x)\n",
    "print('length', len(x))"
   ]
  },
  {
   "cell_type": "markdown",
   "id": "13491fee-3f07-4fa1-9606-34aa6bdf802a",
   "metadata": {},
   "source": [
    "### Dictionaries\n",
    "\n",
    "Instead of an integer index, we have a key. For each key, we have a value. This is called a *key-value pair*. Dictionaries use curly brackets.\n"
   ]
  },
  {
   "cell_type": "code",
   "execution_count": null,
   "id": "0ed8730d-9a1a-4cad-be3a-d7ae20270280",
   "metadata": {},
   "outputs": [],
   "source": [
    "contact_information = {}\n",
    "contact_information['Name'] = \"Department of Atmospheric Science\"\n",
    "contact_information['Address1'] = \"200 West Lake Street\"\n",
    "contact_information['Address2'] = \"1371 Campus Delivery\"\n",
    "contact_information['City'] = \"Fort Collins\"\n",
    "contact_information['State'] = \"CO\"\n",
    "contact_information['ZIP'] = \"80523-1371\"\n",
    "\n",
    "print(contact_information)\n",
    "\n",
    "print(contact_information['State'])"
   ]
  },
  {
   "cell_type": "markdown",
   "id": "7118fad5-eb4e-4e9c-8eec-136538321db5",
   "metadata": {},
   "source": [
    "## Other data structures - Arrays\n",
    "Lists, tuples, and dictionaries are too *flexible* for numerical and scientific datasets. So, we want a scientific data structure. Here, we use the array data structure supplied by [NumPy](https://numpy.org/doc/stable/contents.html) (numerical python).\n",
    "\n",
    "This is an external package so we need to import it.\n",
    "\n",
    "![XKCD](https://imgs.xkcd.com/comics/python.png)\n",
    "\n",
    "To create an array, we use the syntax `np.array()` after telling Python what `np` means through importing the NumPy package."
   ]
  },
  {
   "cell_type": "code",
   "execution_count": null,
   "id": "2e992b85-78a0-47ac-83b4-5316abb515f5",
   "metadata": {},
   "outputs": [],
   "source": [
    "import numpy as np  # this is an import statement. The `as` creates an alias (abbreviation) we create called `np`\n",
    "\n",
    "z = np.array([0, 1, 2, 3])\n",
    "print(z)\n",
    "z[1] = 4\n",
    "print(z)"
   ]
  },
  {
   "cell_type": "markdown",
   "id": "03862f61-b2c5-4ca6-961b-5e699265e159",
   "metadata": {},
   "source": [
    "### Short cut array creation\n",
    "\n",
    "Sometimes you need constant data in your array, NumPy has shortcuts for that. \n",
    "* [zeros](https://numpy.org/doc/stable/reference/generated/numpy.zeros.html) - creates an array of zeros\n",
    "* [ones](https://numpy.org/doc/stable/reference/generated/numpy.ones.html) - creates an array of ones\n",
    "* [full](https://numpy.org/doc/stable/reference/generated/numpy.full.html) - creates an array of a specified value\n",
    "\n",
    "Each is created for your specified size or shape!"
   ]
  },
  {
   "cell_type": "code",
   "execution_count": null,
   "id": "174d163e-9c55-4761-b12f-6618ee93c95a",
   "metadata": {},
   "outputs": [],
   "source": [
    "zeros = np.zeros(5)\n",
    "ones = np.ones(5)\n",
    "threes = np.full(5, 3)\n",
    "\n",
    "print(zeros)\n",
    "print(ones)\n",
    "print(threes)"
   ]
  },
  {
   "cell_type": "markdown",
   "id": "bded90dd-2c9f-483d-8b20-1153b794edec",
   "metadata": {},
   "source": [
    "### Er, I don't need a constant value. Options?\n",
    "\n",
    "* [arange](https://numpy.org/doc/stable/reference/generated/numpy.arange.html) - user specified a start, stop (exclusive), step\n",
    "* [linspace](https://numpy.org/doc/stable/reference/generated/numpy.linspace.html) - linearly spaced values from start to stop (inclusive) for a fixed number\n"
   ]
  },
  {
   "cell_type": "code",
   "execution_count": null,
   "id": "ed905840-fd6d-4d6a-a595-8c1a1c3ffb24",
   "metadata": {},
   "outputs": [],
   "source": [
    "start = 0\n",
    "stop = 1\n",
    "step = 0.2\n",
    "number = 6\n",
    "arange = np.arange(start, stop, step)\n",
    "linspace = np.linspace(start, stop, number)\n",
    "\n",
    "print(\"arange\", arange)\n",
    "print(\"arange size\", arange.size)\n",
    "print(\"linspace\", linspace)\n",
    "print(\"linspace size\", linspace.size)"
   ]
  },
  {
   "cell_type": "markdown",
   "id": "41c9631a-8f9b-4a5b-9554-5a910c83024f",
   "metadata": {},
   "source": [
    "### Hey, but these look like lists! So, let's try making our list and array."
   ]
  },
  {
   "cell_type": "code",
   "execution_count": null,
   "id": "1dde423a-9ed0-4b81-86d6-28d20b6f93f2",
   "metadata": {},
   "outputs": [],
   "source": [
    "b = np.array([0, 'a', True, [1.2, 9]])"
   ]
  },
  {
   "cell_type": "markdown",
   "id": "222e6cae-86db-41b7-980e-6180f0f55935",
   "metadata": {},
   "source": [
    "### What makes arrays special?\n",
    "\n",
    "* Fixed data type\n",
    "* A defined constant size and shape\n",
    "\n",
    "#### So, how to you make create an array with multiple dimensions?"
   ]
  },
  {
   "cell_type": "code",
   "execution_count": null,
   "id": "74d61314-b783-4b65-bbfc-75f9cb270fbb",
   "metadata": {},
   "outputs": [],
   "source": [
    "twoD_array = np.array([[2, 3, -5], [21, -2, 1]])\n",
    "print(twoD_array)"
   ]
  },
  {
   "cell_type": "markdown",
   "id": "55c137af-a246-4904-8f0c-d7f75833fac9",
   "metadata": {},
   "source": [
    "Arrays also have attributes to tell you about there shape and size"
   ]
  },
  {
   "cell_type": "code",
   "execution_count": null,
   "id": "e8ff599d-4bd7-4937-8301-b4cb066dcefa",
   "metadata": {},
   "outputs": [],
   "source": [
    "print(\"Shape\", twoD_array.shape)\n",
    "print(\"Size\", twoD_array.size)"
   ]
  },
  {
   "cell_type": "markdown",
   "id": "f7e96064-aca0-4b58-b4b5-4ca629a6b146",
   "metadata": {},
   "source": [
    "### Can I add to an array like I did a list?\n",
    "\n",
    "Yes, but it is slightly different.\n",
    "\n",
    "[Concatenate](https://numpy.org/doc/stable/reference/generated/numpy.concatenate.html) combines two arrays.\n",
    "\n",
    "The keyword argument `axis` tells Pythone & NumPy where the data goes."
   ]
  },
  {
   "cell_type": "code",
   "execution_count": null,
   "id": "b4fe9d57-3ed6-4d9f-ad7c-aa60f76125dd",
   "metadata": {},
   "outputs": [],
   "source": [
    "new_data = np.array([[7], [8]])\n",
    "twoD_array = np.concatenate((twoD_array, new_data), axis=1)\n",
    "print(twoD_array)"
   ]
  },
  {
   "cell_type": "code",
   "execution_count": null,
   "id": "1857f0df-e852-4647-ac9b-5f7a87ae70b2",
   "metadata": {},
   "outputs": [],
   "source": [
    "print(\"Shape\", twoD_array.shape)\n",
    "print(\"Size\", twoD_array.size)"
   ]
  },
  {
   "cell_type": "markdown",
   "id": "6894e302-ae89-4843-bc48-e838ecff4d92",
   "metadata": {},
   "source": [
    "### Wow, I'm lost!"
   ]
  },
  {
   "cell_type": "code",
   "execution_count": null,
   "id": "5242d5b8-a94d-43b0-b980-932af801167c",
   "metadata": {},
   "outputs": [],
   "source": [
    "np.concatenate?"
   ]
  },
  {
   "cell_type": "markdown",
   "id": "12cb9959-0b87-4afc-bb5a-d014a613d77b",
   "metadata": {},
   "source": [
    "## Lets take a second and create an expression for the area of two annuli\n",
    "\n",
    "The equation for the area of an annulus is\n",
    "$$\n",
    "A = \\pi(R^2﹣r^2),\n",
    "$$\n",
    "where $A$ is the area, $R$ is the outer radius, and $r$ is the inner radius.\n",
    "\n",
    "OK, lets code it up. What do we need?\n",
    "* an `identifier` for storing the `float` $\\pi\\approx3.14$\n",
    "* an `identifier` for storing the `array` for the outer radii\n",
    "* an `identifier` for storing the `array` for the inner radii\n",
    "* an `identifier` for storing output of the `expression` for the area.\n",
    "\n",
    "Try to code this up yourself.\n",
    "\n",
    "Then, set the outer radii to 500 and 800 km and the inner radii to 0 and 200 km. What's the areas?"
   ]
  },
  {
   "cell_type": "code",
   "execution_count": null,
   "id": "e3c96c98-ac5b-4a07-9aa8-c878f3e4dba9",
   "metadata": {},
   "outputs": [],
   "source": [
    "# Code for calculating the areas\n"
   ]
  }
 ],
 "metadata": {
  "kernelspec": {
   "display_name": "Python 3 (ipykernel)",
   "language": "python",
   "name": "python3"
  },
  "language_info": {
   "codemirror_mode": {
    "name": "ipython",
    "version": 3
   },
   "file_extension": ".py",
   "mimetype": "text/x-python",
   "name": "python",
   "nbconvert_exporter": "python",
   "pygments_lexer": "ipython3",
   "version": "3.9.5"
  }
 },
 "nbformat": 4,
 "nbformat_minor": 5
}
